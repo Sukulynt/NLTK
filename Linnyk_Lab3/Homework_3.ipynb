{
 "cells": [
  {
   "cell_type": "markdown",
   "metadata": {},
   "source": [
    "# Homework 3"
   ]
  },
  {
   "cell_type": "code",
   "execution_count": 54,
   "metadata": {},
   "outputs": [
    {
     "name": "stdout",
     "output_type": "stream",
     "text": [
      "4\n"
     ]
    }
   ],
   "source": [
    "def FuncOflevenstein(input_a, input_b, memo=None):\n",
    "    if memo is None:\n",
    "        memo = {}\n",
    "    \n",
    "    # Create a key for the memo dictionary\n",
    "    key = (input_a, input_b)\n",
    "    \n",
    "    if key in memo:\n",
    "        return memo[key]\n",
    "    \n",
    "    if len(input_a) == 0:\n",
    "        answer = len(input_b)\n",
    "    elif len(input_b) == 0:\n",
    "        answer = len(input_a)\n",
    "    elif input_a[0] == input_b[0]:\n",
    "        answer = FuncOflevenstein(input_a[1:], input_b[1:], memo)\n",
    "    else:\n",
    "        answer = 1 + min(FuncOflevenstein(input_a[1:], input_b, memo),\n",
    "                         FuncOflevenstein(input_a[1:], input_b[1:], memo),\n",
    "                         FuncOflevenstein(input_a, input_b[1:], memo))\n",
    "    \n",
    "    # Store the result in memo before returning\n",
    "    memo[key] = answer\n",
    "    return answer\n",
    "\n",
    "# Example usage\n",
    "print(FuncOflevenstein('open', 'close'))\n"
   ]
  },
  {
   "cell_type": "code",
   "execution_count": 55,
   "metadata": {},
   "outputs": [],
   "source": [
    "# Open the file and read its content\n",
    "with open('keys.txt', 'r') as f:\n",
    "    raw = f.read()\n",
    "\n",
    "# Split the content into a list of lines\n",
    "distance_lst = raw.split('\\n')\n",
    "\n",
    "# Create the dictionary from the list\n",
    "distance_dict = {\n",
    "    (distance_lst[i][0].lower(), distance_lst[i][2].lower()): distance_lst[i][4:]\n",
    "    for i in range(len(distance_lst))\n",
    "    if len(distance_lst[i]) >= 5  # Ensure there are enough characters in each line\n",
    "}\n"
   ]
  },
  {
   "cell_type": "code",
   "execution_count": 56,
   "metadata": {},
   "outputs": [],
   "source": [
    "def letter_distance(i,j):\n",
    "    return distance_dict[(i,j)]"
   ]
  },
  {
   "cell_type": "code",
   "execution_count": 58,
   "metadata": {},
   "outputs": [
    {
     "data": {
      "text/plain": [
       "59.29"
      ]
     },
     "execution_count": 58,
     "metadata": {},
     "output_type": "execute_result"
    }
   ],
   "source": [
    "def levenstein2(input_a, input_b):\n",
    "\n",
    "\n",
    "    # Base cases for recursion\n",
    "    if len(input_a) == 0:\n",
    "        # If input_a is empty, return the length of input_b\n",
    "        answer = len(input_b)\n",
    "    elif len(input_b) == 0:\n",
    "        # If input_b is empty, return the length of input_a\n",
    "        answer = len(input_a)\n",
    "    elif input_a[0] == input_b[0]:\n",
    "        # If the first characters are the same, no additional cost\n",
    "        # Recur for the remaining strings\n",
    "        answer = FuncOflevenstein(input_a[1:], input_b[1:])\n",
    "    else:\n",
    "        # Calculate the cost for substituting the first characters\n",
    "        substitution_cost = float(letter_distance(input_a[0], input_b[0]))\n",
    "        # Recursively compute the minimum cost among insertion, deletion, and substitution\n",
    "        answer = substitution_cost + min(\n",
    "            FuncOflevenstein(input_a[1:], input_b),    # Deletion\n",
    "            FuncOflevenstein(input_a[1:], input_b[1:]), # Substitution\n",
    "            FuncOflevenstein(input_a, input_b[1:])     # Insertion\n",
    "        )\n",
    "\n",
    "    return answer\n",
    "\n",
    "# Example usage\n",
    "levenstein2('gradient', 'monstrous')\n"
   ]
  },
  {
   "cell_type": "code",
   "execution_count": 59,
   "metadata": {},
   "outputs": [
    {
     "data": {
      "text/plain": [
       "3"
      ]
     },
     "execution_count": 59,
     "metadata": {},
     "output_type": "execute_result"
    }
   ],
   "source": [
    "def damerauNlevenstein(input_a, input_b):\n",
    "\n",
    "\n",
    "    # Base cases for recursion\n",
    "    if len(input_a) == 0:\n",
    "        # If input_a is empty, return the length of input_b\n",
    "        answer = len(input_b)\n",
    "    elif len(input_b) == 0:\n",
    "        # If input_b is empty, return the length of input_a\n",
    "        answer = len(input_a)\n",
    "    elif input_a[0] == input_b[0]:\n",
    "        # If the first characters are the same, no additional cost\n",
    "        # Recur for the remaining strings\n",
    "        answer = damerauNlevenstein(input_a[1:], input_b[1:])\n",
    "    else:\n",
    "        # Calculate the cost for substitution\n",
    "        substitution_cost = 1\n",
    "        # Recursively compute the minimum cost among deletion, insertion, substitution,\n",
    "        # and transposition (if applicable)\n",
    "        answer = 1 + min(\n",
    "            damerauNlevenstein(input_a[1:], input_b),    # Deletion\n",
    "            damerauNlevenstein(input_a[1:], input_b[1:]), # Substitution\n",
    "            damerauNlevenstein(input_a, input_b[1:]),     # Insertion\n",
    "            damerauNlevenstein(input_a[2:], input_b[2:])  # Transposition\n",
    "        )\n",
    "\n",
    "    return answer\n",
    "\n",
    "# Example usage\n",
    "damerauNlevenstein('open', 'close')\n"
   ]
  },
  {
   "cell_type": "code",
   "execution_count": 16,
   "metadata": {},
   "outputs": [],
   "source": [
    "import nltk\n",
    "from nltk import FreqDist\n",
    "import numpy as np\n",
    "from nltk.corpus import stopwords\n"
   ]
  },
  {
   "cell_type": "code",
   "execution_count": 21,
   "metadata": {},
   "outputs": [
    {
     "name": "stdout",
     "output_type": "stream",
     "text": [
      "*** Introductory Examples for the NLTK Book ***\n",
      "Loading text1, ..., text9 and sent1, ..., sent9\n",
      "Type the name of the text or sentence to view it.\n",
      "Type: 'texts()' or 'sents()' to list the materials.\n",
      "text1: Moby Dick by Herman Melville 1851\n",
      "text2: Sense and Sensibility by Jane Austen 1811\n",
      "text3: The Book of Genesis\n",
      "text4: Inaugural Address Corpus\n",
      "text5: Chat Corpus\n",
      "text6: Monty Python and the Holy Grail\n",
      "text7: Wall Street Journal\n",
      "text8: Personals Corpus\n",
      "text9: The Man Who Was Thursday by G . K . Chesterton 1908\n"
     ]
    }
   ],
   "source": [
    "from nltk.book import *"
   ]
  },
  {
   "cell_type": "markdown",
   "metadata": {},
   "source": [
    "\n",
    "В цьому фрагменті коду кожен змінний text_i формується шляхом об'єднання елементів списку text_i за допомогою пробілів між ними. Потім всі ці змінні text_i конкатенуються в одну змінну text, що містить весь текст, що знаходиться у всіх окремих блоках, без пробілів між ними."
   ]
  },
  {
   "cell_type": "code",
   "execution_count": 63,
   "metadata": {},
   "outputs": [],
   "source": [
    "text_1 = \" \".join(text1)\n",
    "text_2 = \" \".join(text2)\n",
    "text_3 = \" \".join(text3)\n",
    "text_4 = \" \".join(text4)\n",
    "text_5 = \" \".join(text5)\n",
    "text_6 = \" \".join(text6)\n",
    "text_7 = \" \".join(text7)\n",
    "text_8 = \" \".join(text8)\n",
    "text_9 = \" \".join(text9)\n",
    "\n",
    "text = text_1 + text_2 + text_3 + text_4 + text_5 + text_6 + text_7 + text_8 + text_9"
   ]
  },
  {
   "cell_type": "code",
   "execution_count": 64,
   "metadata": {},
   "outputs": [],
   "source": [
    "from nltk.stem.wordnet import WordNetLemmatizer\n",
    "\n",
    "\n",
    "def lemmatize(text):\n",
    "    lemmatizer = WordNetLemmatizer()\n",
    "    lemmatized_sentence = [lemmatizer.lemmatize(i) for i in text]\n",
    "    return lemmatized_sentence\n",
    "\n",
    "text = lemmatize(nltk.word_tokenize(text))"
   ]
  },
  {
   "cell_type": "code",
   "execution_count": 65,
   "metadata": {},
   "outputs": [],
   "source": [
    "import string\n",
    "\n",
    "def process_tokens(tokens):\n",
    "\n",
    "    cleaned_tokens = []\n",
    "    stop_words = stopwords.words('english')\n",
    "\n",
    "    for token in tokens:\n",
    "        if token not in string.punctuation and token.lower() not in stop_words and token[0] != \"'\" and token.isalpha() == True:\n",
    "            cleaned_tokens.append(token.lower())\n",
    "    return cleaned_tokens"
   ]
  },
  {
   "cell_type": "code",
   "execution_count": 66,
   "metadata": {},
   "outputs": [],
   "source": [
    "text = process_tokens(text)"
   ]
  },
  {
   "cell_type": "code",
   "execution_count": 68,
   "metadata": {},
   "outputs": [],
   "source": [
    "def ContainerWithWords(text):\n",
    "    if type(text) == nltk.text.Text or type(text) == list:\n",
    "        fd = FreqDist(text)\n",
    "    elif type(text) == str:\n",
    "        words = nltk.word_tokenize(text)\n",
    "        fd = FreqDist(words)\n",
    "    unique = fd.keys()\n",
    "    u_dict = {i: [fd[i] if e == i else 0 for e in unique] for i in unique}\n",
    "\n",
    "    return u_dict\n"
   ]
  },
  {
   "cell_type": "code",
   "execution_count": 69,
   "metadata": {},
   "outputs": [],
   "source": [
    "base_vectors = ContainerWithWords(text)"
   ]
  },
  {
   "cell_type": "code",
   "execution_count": 70,
   "metadata": {},
   "outputs": [
    {
     "name": "stdout",
     "output_type": "stream",
     "text": [
      "Наш розмір вектора: 26657\n"
     ]
    }
   ],
   "source": [
    "print(\"Наш розмір вектора:\", len(ContainerWithWords(text)['thursday']))"
   ]
  },
  {
   "cell_type": "code",
   "execution_count": 72,
   "metadata": {},
   "outputs": [
    {
     "data": {
      "text/plain": [
       "array([0, 0, 0, ..., 0, 0, 0])"
      ]
     },
     "execution_count": 72,
     "metadata": {},
     "output_type": "execute_result"
    }
   ],
   "source": [
    "def new_vector(sent):\n",
    "    words = process_tokens(lemmatize(nltk.word_tokenize(sent)))\n",
    "    unique = FreqDist(words).keys()\n",
    "    auxilliary_matrix = [np.array(base_vectors[key]) for key in unique]\n",
    "    sent_vector = sum(auxilliary_matrix)\n",
    "    return sent_vector\n",
    "\n",
    "new_vector(text_3)\n"
   ]
  },
  {
   "cell_type": "code",
   "execution_count": 73,
   "metadata": {},
   "outputs": [],
   "source": [
    "def sent_dist(sent1, sent2):\n",
    "    return np.dot(sent1, sent2)"
   ]
  },
  {
   "cell_type": "code",
   "execution_count": 74,
   "metadata": {},
   "outputs": [
    {
     "data": {
      "text/plain": [
       "111665021"
      ]
     },
     "execution_count": 74,
     "metadata": {},
     "output_type": "execute_result"
    }
   ],
   "source": [
    "txt1 = text_1\n",
    "txt2 = text_2\n",
    "sent_dist(new_vector(txt1), new_vector(txt2))"
   ]
  }
 ],
 "metadata": {
  "kernelspec": {
   "display_name": "Python 3",
   "language": "python",
   "name": "python3"
  },
  "language_info": {
   "codemirror_mode": {
    "name": "ipython",
    "version": 3
   },
   "file_extension": ".py",
   "mimetype": "text/x-python",
   "name": "python",
   "nbconvert_exporter": "python",
   "pygments_lexer": "ipython3",
   "version": "3.12.2"
  }
 },
 "nbformat": 4,
 "nbformat_minor": 2
}
